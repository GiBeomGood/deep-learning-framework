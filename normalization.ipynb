{
 "cells": [
  {
   "cell_type": "code",
   "execution_count": 19,
   "metadata": {},
   "outputs": [],
   "source": [
    "import torch\n",
    "import torch.nn.functional as F\n",
    "from torch import Tensor, nn"
   ]
  },
  {
   "cell_type": "code",
   "execution_count": 2,
   "metadata": {},
   "outputs": [],
   "source": [
    "bn1 = nn.BatchNorm1d(10)\n",
    "# (10) x 2\n",
    "bn2 = nn.BatchNorm2d(3)\n",
    "# (3) x 2\n",
    "ln1 = nn.LayerNorm(10)\n",
    "# (10) x 2\n",
    "ln2 = nn.LayerNorm((3, 4))\n",
    "# (3 x 4) x 2"
   ]
  },
  {
   "cell_type": "code",
   "execution_count": 3,
   "metadata": {},
   "outputs": [],
   "source": [
    "torch.random.manual_seed(0)\n",
    "\n",
    "x11 = torch.randn(16, 10)\n",
    "x12 = torch.randn(16, 10, 20)\n",
    "x2 = torch.randn(16, 3, 32, 32)\n",
    "x31 = torch.randn(16, 60, 10)\n",
    "x32 = torch.randn(16, 60, 3, 4)"
   ]
  },
  {
   "cell_type": "code",
   "execution_count": 4,
   "metadata": {},
   "outputs": [
    {
     "name": "stdout",
     "output_type": "stream",
     "text": [
      "torch.Size([16, 10])\n",
      "torch.Size([16, 10, 20])\n",
      "torch.Size([16, 3, 32, 32])\n",
      "torch.Size([16, 60, 10])\n",
      "torch.Size([16, 60, 3, 4])\n"
     ]
    }
   ],
   "source": [
    "output11 = bn1(x11)\n",
    "output12 = bn1(x12)\n",
    "output2 = bn2(x2)\n",
    "output31 = ln1(x31)\n",
    "output32 = ln2(x32)\n",
    "\n",
    "for output in [output11, output12, output2, output31, output32]:\n",
    "    print(output.size())"
   ]
  },
  {
   "cell_type": "markdown",
   "metadata": {},
   "source": [
    "# Batch Normalization\n",
    "\n",
    "$$\n",
    "    y = \\frac{x-E[x]}{\\sqrt{Var[x] + \\epsilon}} \\cdot \\gamma + \\beta\n",
    "$$\n",
    "\n",
    "+ calculated along features.\n",
    "+ If 10 features exist, then 10 times of above calculation is executed in parallel."
   ]
  },
  {
   "cell_type": "markdown",
   "metadata": {},
   "source": [
    "## 1D"
   ]
  },
  {
   "cell_type": "markdown",
   "metadata": {},
   "source": [
    "### vector data"
   ]
  },
  {
   "cell_type": "code",
   "execution_count": 28,
   "metadata": {},
   "outputs": [
    {
     "data": {
      "text/plain": [
       "0.0"
      ]
     },
     "execution_count": 28,
     "metadata": {},
     "output_type": "execute_result"
    }
   ],
   "source": [
    "mean_estimate = x11.mean(dim=0, keepdim=True)\n",
    "var_estimate = x11.var(dim=0, keepdim=True, unbiased=False)\n",
    "\n",
    "my_output11 = (x11 - mean_estimate) / torch.sqrt(var_estimate + bn1.eps)\n",
    "round(F.mse_loss(output11, my_output11).item(), 6)"
   ]
  },
  {
   "cell_type": "markdown",
   "metadata": {},
   "source": [
    "### matrix data"
   ]
  },
  {
   "cell_type": "code",
   "execution_count": 31,
   "metadata": {},
   "outputs": [
    {
     "data": {
      "text/plain": [
       "0.0"
      ]
     },
     "execution_count": 31,
     "metadata": {},
     "output_type": "execute_result"
    }
   ],
   "source": [
    "mean_estimate = x12.mean(dim=[0, 2], keepdim=True)\n",
    "var_estimate = x12.var(dim=[0, 2], keepdim=True, unbiased=False)\n",
    "\n",
    "my_output12 = (x12 - mean_estimate) / torch.sqrt(var_estimate + bn1.eps)\n",
    "round(F.mse_loss(output12, my_output12).item(), 6)"
   ]
  },
  {
   "cell_type": "markdown",
   "metadata": {},
   "source": [
    "## 2D"
   ]
  },
  {
   "cell_type": "code",
   "execution_count": 32,
   "metadata": {},
   "outputs": [
    {
     "data": {
      "text/plain": [
       "0.0"
      ]
     },
     "execution_count": 32,
     "metadata": {},
     "output_type": "execute_result"
    }
   ],
   "source": [
    "mean_estimate = x2.mean(dim=[0, 2, 3], keepdim=True)\n",
    "var_estimate = x2.var(dim=[0, 2, 3], keepdim=True, unbiased=False)\n",
    "\n",
    "my_output2 = (x2 - mean_estimate) / torch.sqrt(var_estimate + bn2.eps)\n",
    "round(F.mse_loss(output2, my_output2).item(), 6)"
   ]
  },
  {
   "cell_type": "markdown",
   "metadata": {},
   "source": [
    "# Layer Normalization\n",
    "\n",
    "+ seems to be much more proper for NLP data"
   ]
  },
  {
   "cell_type": "markdown",
   "metadata": {},
   "source": [
    "## vector data"
   ]
  },
  {
   "cell_type": "code",
   "execution_count": 38,
   "metadata": {},
   "outputs": [
    {
     "data": {
      "text/plain": [
       "0.0"
      ]
     },
     "execution_count": 38,
     "metadata": {},
     "output_type": "execute_result"
    }
   ],
   "source": [
    "mean_estimate = x31.mean(dim=2, keepdim=True)\n",
    "var_estimate = x31.var(dim=2, keepdim=True, unbiased=False)\n",
    "\n",
    "my_output31 = (x31 - mean_estimate) / torch.sqrt(var_estimate + ln1.eps)\n",
    "round(F.mse_loss(output31, my_output31).item(), 6)"
   ]
  },
  {
   "cell_type": "code",
   "execution_count": 44,
   "metadata": {},
   "outputs": [
    {
     "data": {
      "text/plain": [
       "0.0"
      ]
     },
     "execution_count": 44,
     "metadata": {},
     "output_type": "execute_result"
    }
   ],
   "source": [
    "x31_sample = x31[0, 0]\n",
    "my_output31_sample = (x31_sample - x31_sample.mean()) / torch.sqrt(x31_sample.var(unbiased=False) + ln1.eps)\n",
    "round(F.mse_loss(output31[0, 0], my_output31_sample).item(), 6)"
   ]
  },
  {
   "cell_type": "code",
   "execution_count": 43,
   "metadata": {},
   "outputs": [
    {
     "data": {
      "text/plain": [
       "tensor([ 0.1511,  2.1891, -0.2169, -1.0667, -0.4760,  0.6376, -1.7909,  0.3655,\n",
       "         0.1511,  0.0560], grad_fn=<SelectBackward0>)"
      ]
     },
     "execution_count": 43,
     "metadata": {},
     "output_type": "execute_result"
    }
   ],
   "source": [
    "output31[0, 0]"
   ]
  },
  {
   "cell_type": "markdown",
   "metadata": {},
   "source": [
    "## matrix data"
   ]
  },
  {
   "cell_type": "code",
   "execution_count": 40,
   "metadata": {},
   "outputs": [
    {
     "data": {
      "text/plain": [
       "0.0"
      ]
     },
     "execution_count": 40,
     "metadata": {},
     "output_type": "execute_result"
    }
   ],
   "source": [
    "mean_estimate = x32.mean(dim=[2, 3], keepdim=True)\n",
    "var_estimate = x32.var(dim=[2, 3], keepdim=True, unbiased=False)\n",
    "\n",
    "my_output32 = (x32 - mean_estimate) / torch.sqrt(var_estimate + ln2.eps)\n",
    "round(F.mse_loss(output32, my_output32).item(), 6)"
   ]
  }
 ],
 "metadata": {
  "kernelspec": {
   "display_name": "torch",
   "language": "python",
   "name": "python3"
  },
  "language_info": {
   "codemirror_mode": {
    "name": "ipython",
    "version": 3
   },
   "file_extension": ".py",
   "mimetype": "text/x-python",
   "name": "python",
   "nbconvert_exporter": "python",
   "pygments_lexer": "ipython3",
   "version": "3.11.9"
  }
 },
 "nbformat": 4,
 "nbformat_minor": 2
}
