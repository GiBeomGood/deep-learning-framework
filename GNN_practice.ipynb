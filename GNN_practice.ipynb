{
 "cells": [
  {
   "cell_type": "code",
   "execution_count": 1,
   "metadata": {},
   "outputs": [],
   "source": [
    "import torch\n",
    "from torch import nn"
   ]
  },
  {
   "cell_type": "code",
   "execution_count": 34,
   "metadata": {},
   "outputs": [],
   "source": [
    "output = torch.rand(16, 4, 4)\n",
    "\n",
    "indices = torch.tensor([\n",
    "    [0, 1, 2, 3],\n",
    "    [1, 2, 3, 0]\n",
    "])\n",
    "values = torch.ones(4)\n",
    "adj = torch.sparse_coo_tensor(indices, values, [4, 4])\n",
    "adj = torch.stack([adj]*16, dim=0)"
   ]
  },
  {
   "cell_type": "code",
   "execution_count": 32,
   "metadata": {},
   "outputs": [],
   "source": [
    "adj_sum = adj.sum(dim=1)\n",
    "adj_size = adj.size(0)\n",
    "adj_sum_inv = torch.sparse_coo_tensor(\n",
    "    indices=torch.tensor([\n",
    "        range(adj_size),\n",
    "        range(adj_size),\n",
    "    ]),\n",
    "    values=1/adj_sum.values(),\n",
    "    size=adj.size()\n",
    ")"
   ]
  },
  {
   "cell_type": "code",
   "execution_count": 34,
   "metadata": {},
   "outputs": [
    {
     "data": {
      "text/plain": [
       "tensor([[0.9736, 0.8535, 0.4902, 0.5258],\n",
       "        [0.0817, 0.2099, 0.4966, 0.1776],\n",
       "        [0.5208, 0.0015, 0.2070, 0.5487],\n",
       "        [0.1691, 0.5076, 0.2706, 0.1458]])"
      ]
     },
     "execution_count": 34,
     "metadata": {},
     "output_type": "execute_result"
    }
   ],
   "source": [
    "adj_sum_inv.mm(adj.mm(output))"
   ]
  }
 ],
 "metadata": {
  "kernelspec": {
   "display_name": "torch",
   "language": "python",
   "name": "python3"
  },
  "language_info": {
   "codemirror_mode": {
    "name": "ipython",
    "version": 3
   },
   "file_extension": ".py",
   "mimetype": "text/x-python",
   "name": "python",
   "nbconvert_exporter": "python",
   "pygments_lexer": "ipython3",
   "version": "3.11.8"
  }
 },
 "nbformat": 4,
 "nbformat_minor": 2
}
